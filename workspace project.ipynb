{
 "cells": [
  {
   "cell_type": "code",
   "execution_count": 1,
   "metadata": {
    "executionInfo": {
     "elapsed": 4,
     "status": "ok",
     "timestamp": 1622443997447,
     "user": {
      "displayName": "Manikanta Sambari",
      "photoUrl": "https://lh3.googleusercontent.com/a-/AOh14Gi2Gl8Y_btLZa3L5q1U0P5F3TdnWH_y5M7gEBIYNKc=s64",
      "userId": "06900992562537143936"
     },
     "user_tz": -330
    },
    "id": "yeQXf5gGrndv"
   },
   "outputs": [],
   "source": [
    "from tensorflow.keras.models import Sequential\n",
    "from tensorflow.keras.layers import Dense\n",
    "from tensorflow.keras.layers import Convolution2D\n",
    "from tensorflow.keras.layers import MaxPooling2D\n",
    "from tensorflow.keras.layers import Flatten"
   ]
  },
  {
   "cell_type": "code",
   "execution_count": 2,
   "metadata": {
    "executionInfo": {
     "elapsed": 5,
     "status": "ok",
     "timestamp": 1622444000098,
     "user": {
      "displayName": "Manikanta Sambari",
      "photoUrl": "https://lh3.googleusercontent.com/a-/AOh14Gi2Gl8Y_btLZa3L5q1U0P5F3TdnWH_y5M7gEBIYNKc=s64",
      "userId": "06900992562537143936"
     },
     "user_tz": -330
    },
    "id": "OEmeYkOOrndz"
   },
   "outputs": [],
   "source": [
    "from keras.preprocessing.image import ImageDataGenerator\n",
    "train_datagen = ImageDataGenerator(rescale=1./255,shear_range=0.2,zoom_range = 0.2,horizontal_flip = True)\n",
    "test_datagen =  ImageDataGenerator(rescale = 1./255)\n"
   ]
  },
  {
   "cell_type": "code",
   "execution_count": 3,
   "metadata": {
    "colab": {
     "base_uri": "https://localhost:8080/"
    },
    "executionInfo": {
     "elapsed": 358,
     "status": "ok",
     "timestamp": 1622444137463,
     "user": {
      "displayName": "Manikanta Sambari",
      "photoUrl": "https://lh3.googleusercontent.com/a-/AOh14Gi2Gl8Y_btLZa3L5q1U0P5F3TdnWH_y5M7gEBIYNKc=s64",
      "userId": "06900992562537143936"
     },
     "user_tz": -330
    },
    "id": "wh_HO0vLrnd0",
    "outputId": "4220cf7a-f0f6-478f-c2fa-1dc38823f90f"
   },
   "outputs": [
    {
     "name": "stdout",
     "output_type": "stream",
     "text": [
      "Found 121 images belonging to 2 classes.\n",
      "Found 59 images belonging to 2 classes.\n"
     ]
    }
   ],
   "source": [
    "x_train=train_datagen.flow_from_directory(r\"E:\\Project\\images\\Train\",target_size=(64,64),batch_size=5,class_mode=\"binary\")\n",
    "x_test=test_datagen.flow_from_directory(r\"E:\\Project\\images\\Test\",target_size=(64,64),batch_size=5,class_mode=\"binary\")"
   ]
  },
  {
   "cell_type": "code",
   "execution_count": 4,
   "metadata": {
    "executionInfo": {
     "elapsed": 357,
     "status": "ok",
     "timestamp": 1622444042291,
     "user": {
      "displayName": "Manikanta Sambari",
      "photoUrl": "https://lh3.googleusercontent.com/a-/AOh14Gi2Gl8Y_btLZa3L5q1U0P5F3TdnWH_y5M7gEBIYNKc=s64",
      "userId": "06900992562537143936"
     },
     "user_tz": -330
    },
    "id": "YXkoZjgxrnd1"
   },
   "outputs": [],
   "source": [
    "model=Sequential()"
   ]
  },
  {
   "cell_type": "code",
   "execution_count": 5,
   "metadata": {
    "executionInfo": {
     "elapsed": 377,
     "status": "ok",
     "timestamp": 1622444044390,
     "user": {
      "displayName": "Manikanta Sambari",
      "photoUrl": "https://lh3.googleusercontent.com/a-/AOh14Gi2Gl8Y_btLZa3L5q1U0P5F3TdnWH_y5M7gEBIYNKc=s64",
      "userId": "06900992562537143936"
     },
     "user_tz": -330
    },
    "id": "PdUU877Xrnd2"
   },
   "outputs": [],
   "source": [
    "model.add(Convolution2D(32,(3,3),input_shape=(64,64,3),activation=\"relu\"))"
   ]
  },
  {
   "cell_type": "code",
   "execution_count": 6,
   "metadata": {
    "executionInfo": {
     "elapsed": 360,
     "status": "ok",
     "timestamp": 1622444046514,
     "user": {
      "displayName": "Manikanta Sambari",
      "photoUrl": "https://lh3.googleusercontent.com/a-/AOh14Gi2Gl8Y_btLZa3L5q1U0P5F3TdnWH_y5M7gEBIYNKc=s64",
      "userId": "06900992562537143936"
     },
     "user_tz": -330
    },
    "id": "gAQwQsLkrnd2"
   },
   "outputs": [],
   "source": [
    "model.add(MaxPooling2D(2,2))"
   ]
  },
  {
   "cell_type": "code",
   "execution_count": 7,
   "metadata": {
    "executionInfo": {
     "elapsed": 358,
     "status": "ok",
     "timestamp": 1622444048639,
     "user": {
      "displayName": "Manikanta Sambari",
      "photoUrl": "https://lh3.googleusercontent.com/a-/AOh14Gi2Gl8Y_btLZa3L5q1U0P5F3TdnWH_y5M7gEBIYNKc=s64",
      "userId": "06900992562537143936"
     },
     "user_tz": -330
    },
    "id": "LGFrMuX-rnd3"
   },
   "outputs": [],
   "source": [
    "\n",
    "model.add(Flatten())"
   ]
  },
  {
   "cell_type": "code",
   "execution_count": 8,
   "metadata": {
    "executionInfo": {
     "elapsed": 621,
     "status": "ok",
     "timestamp": 1622444050816,
     "user": {
      "displayName": "Manikanta Sambari",
      "photoUrl": "https://lh3.googleusercontent.com/a-/AOh14Gi2Gl8Y_btLZa3L5q1U0P5F3TdnWH_y5M7gEBIYNKc=s64",
      "userId": "06900992562537143936"
     },
     "user_tz": -330
    },
    "id": "bJb-IJJSrnd3"
   },
   "outputs": [],
   "source": [
    "model.add(Dense(units=32,activation=\"relu\",kernel_initializer=\"random_uniform\"))"
   ]
  },
  {
   "cell_type": "code",
   "execution_count": 9,
   "metadata": {
    "executionInfo": {
     "elapsed": 357,
     "status": "ok",
     "timestamp": 1622444052758,
     "user": {
      "displayName": "Manikanta Sambari",
      "photoUrl": "https://lh3.googleusercontent.com/a-/AOh14Gi2Gl8Y_btLZa3L5q1U0P5F3TdnWH_y5M7gEBIYNKc=s64",
      "userId": "06900992562537143936"
     },
     "user_tz": -330
    },
    "id": "g_yClpjArnd3"
   },
   "outputs": [],
   "source": [
    "model.add(Dense(units=1,activation=\"sigmoid\",kernel_initializer=\"random_uniform\"))"
   ]
  },
  {
   "cell_type": "code",
   "execution_count": 10,
   "metadata": {
    "executionInfo": {
     "elapsed": 2,
     "status": "ok",
     "timestamp": 1622444054439,
     "user": {
      "displayName": "Manikanta Sambari",
      "photoUrl": "https://lh3.googleusercontent.com/a-/AOh14Gi2Gl8Y_btLZa3L5q1U0P5F3TdnWH_y5M7gEBIYNKc=s64",
      "userId": "06900992562537143936"
     },
     "user_tz": -330
    },
    "id": "zZVAH8xHrnd4"
   },
   "outputs": [],
   "source": [
    "model.compile(\"adam\",loss=\"binary_crossentropy\",metrics=[\"accuracy\"])"
   ]
  },
  {
   "cell_type": "code",
   "execution_count": 11,
   "metadata": {
    "colab": {
     "base_uri": "https://localhost:8080/",
     "height": 464
    },
    "executionInfo": {
     "elapsed": 746,
     "status": "error",
     "timestamp": 1622444509627,
     "user": {
      "displayName": "Manikanta Sambari",
      "photoUrl": "https://lh3.googleusercontent.com/a-/AOh14Gi2Gl8Y_btLZa3L5q1U0P5F3TdnWH_y5M7gEBIYNKc=s64",
      "userId": "06900992562537143936"
     },
     "user_tz": -330
    },
    "id": "fl91genFrnd4",
    "outputId": "8bf15f71-71a9-4155-8ec8-47f430d394b4"
   },
   "outputs": [
    {
     "name": "stderr",
     "output_type": "stream",
     "text": [
      "C:\\Users\\Rohit\\Anaconda3\\lib\\site-packages\\tensorflow\\python\\keras\\engine\\training.py:1844: UserWarning: `Model.fit_generator` is deprecated and will be removed in a future version. Please use `Model.fit`, which supports generators.\n",
      "  warnings.warn('`Model.fit_generator` is deprecated and '\n"
     ]
    },
    {
     "name": "stdout",
     "output_type": "stream",
     "text": [
      "Epoch 1/50\n",
      "3/3 [==============================] - 2s 655ms/step - loss: 0.8927 - accuracy: 0.3152 - val_loss: 1.1389 - val_accuracy: 0.5429\n",
      "Epoch 2/50\n",
      "3/3 [==============================] - 0s 197ms/step - loss: 1.3008 - accuracy: 0.3977 - val_loss: 0.7314 - val_accuracy: 0.4857\n",
      "Epoch 3/50\n",
      "3/3 [==============================] - 1s 222ms/step - loss: 0.6615 - accuracy: 0.5583 - val_loss: 0.6947 - val_accuracy: 0.4000\n",
      "Epoch 4/50\n",
      "3/3 [==============================] - 0s 148ms/step - loss: 0.6950 - accuracy: 0.4583 - val_loss: 0.6928 - val_accuracy: 0.6571\n",
      "Epoch 5/50\n",
      "3/3 [==============================] - 0s 171ms/step - loss: 0.6933 - accuracy: 0.5250 - val_loss: 0.6930 - val_accuracy: 0.5714\n",
      "Epoch 6/50\n",
      "3/3 [==============================] - 0s 141ms/step - loss: 0.6927 - accuracy: 0.6833 - val_loss: 0.6930 - val_accuracy: 0.5429\n",
      "Epoch 7/50\n",
      "3/3 [==============================] - 0s 214ms/step - loss: 0.6923 - accuracy: 0.6894 - val_loss: 0.6931 - val_accuracy: 0.5143\n",
      "Epoch 8/50\n",
      "3/3 [==============================] - 1s 204ms/step - loss: 0.6921 - accuracy: 0.6583 - val_loss: 0.6935 - val_accuracy: 0.4571\n",
      "Epoch 9/50\n",
      "3/3 [==============================] - 0s 133ms/step - loss: 0.6924 - accuracy: 0.6000 - val_loss: 0.6923 - val_accuracy: 0.6000\n",
      "Epoch 10/50\n",
      "3/3 [==============================] - 0s 162ms/step - loss: 0.6929 - accuracy: 0.5333 - val_loss: 0.6927 - val_accuracy: 0.5429\n",
      "Epoch 11/50\n",
      "3/3 [==============================] - 0s 154ms/step - loss: 0.6945 - accuracy: 0.3750 - val_loss: 0.6934 - val_accuracy: 0.4857\n",
      "Epoch 12/50\n",
      "3/3 [==============================] - 0s 212ms/step - loss: 0.6925 - accuracy: 0.5583 - val_loss: 0.6927 - val_accuracy: 0.5429\n",
      "Epoch 13/50\n",
      "3/3 [==============================] - 0s 175ms/step - loss: 0.6932 - accuracy: 0.4917 - val_loss: 0.6930 - val_accuracy: 0.5143\n",
      "Epoch 14/50\n",
      "3/3 [==============================] - 0s 150ms/step - loss: 0.6914 - accuracy: 0.6500 - val_loss: 0.6926 - val_accuracy: 0.5429\n",
      "Epoch 15/50\n",
      "3/3 [==============================] - 0s 162ms/step - loss: 0.6918 - accuracy: 0.6083 - val_loss: 0.6923 - val_accuracy: 0.5714\n",
      "Epoch 16/50\n",
      "3/3 [==============================] - 0s 136ms/step - loss: 0.6948 - accuracy: 0.3833 - val_loss: 0.6926 - val_accuracy: 0.5429\n",
      "Epoch 17/50\n",
      "3/3 [==============================] - 0s 164ms/step - loss: 0.6927 - accuracy: 0.5333 - val_loss: 0.6926 - val_accuracy: 0.5429\n",
      "Epoch 18/50\n",
      "3/3 [==============================] - 0s 159ms/step - loss: 0.6922 - accuracy: 0.5667 - val_loss: 0.6934 - val_accuracy: 0.4857\n",
      "Epoch 19/50\n",
      "3/3 [==============================] - 0s 136ms/step - loss: 0.6970 - accuracy: 0.2333 - val_loss: 0.6946 - val_accuracy: 0.4000\n",
      "Epoch 20/50\n",
      "3/3 [==============================] - 0s 156ms/step - loss: 0.6933 - accuracy: 0.4917 - val_loss: 0.6930 - val_accuracy: 0.5143\n",
      "Epoch 21/50\n",
      "3/3 [==============================] - 0s 139ms/step - loss: 0.6923 - accuracy: 0.5667 - val_loss: 0.6934 - val_accuracy: 0.4857\n",
      "Epoch 22/50\n",
      "3/3 [==============================] - 0s 165ms/step - loss: 0.6917 - accuracy: 0.6167 - val_loss: 0.6919 - val_accuracy: 0.6000\n",
      "Epoch 23/50\n",
      "3/3 [==============================] - 0s 169ms/step - loss: 0.6931 - accuracy: 0.5023 - val_loss: 0.6937 - val_accuracy: 0.4571\n",
      "Epoch 24/50\n",
      "3/3 [==============================] - 0s 137ms/step - loss: 0.6933 - accuracy: 0.4917 - val_loss: 0.6927 - val_accuracy: 0.5429\n",
      "Epoch 25/50\n",
      "3/3 [==============================] - 0s 158ms/step - loss: 0.6934 - accuracy: 0.4833 - val_loss: 0.6944 - val_accuracy: 0.4000\n",
      "Epoch 26/50\n",
      "3/3 [==============================] - 0s 136ms/step - loss: 0.6950 - accuracy: 0.3417 - val_loss: 0.6924 - val_accuracy: 0.5714\n",
      "Epoch 27/50\n",
      "3/3 [==============================] - 0s 160ms/step - loss: 0.6943 - accuracy: 0.3977 - val_loss: 0.6934 - val_accuracy: 0.4857\n",
      "Epoch 28/50\n",
      "3/3 [==============================] - 0s 144ms/step - loss: 0.6953 - accuracy: 0.3083 - val_loss: 0.6928 - val_accuracy: 0.5429\n",
      "Epoch 29/50\n",
      "3/3 [==============================] - 0s 161ms/step - loss: 0.6943 - accuracy: 0.3750 - val_loss: 0.6930 - val_accuracy: 0.5143\n",
      "Epoch 30/50\n",
      "3/3 [==============================] - 0s 139ms/step - loss: 0.6933 - accuracy: 0.4750 - val_loss: 0.6933 - val_accuracy: 0.4857\n",
      "Epoch 31/50\n",
      "3/3 [==============================] - 0s 160ms/step - loss: 0.6945 - accuracy: 0.3167 - val_loss: 0.6932 - val_accuracy: 0.4857\n",
      "Epoch 32/50\n",
      "3/3 [==============================] - 0s 151ms/step - loss: 0.6941 - accuracy: 0.3523 - val_loss: 0.6931 - val_accuracy: 0.5143\n",
      "Epoch 33/50\n",
      "3/3 [==============================] - 0s 155ms/step - loss: 0.6942 - accuracy: 0.2667 - val_loss: 0.6930 - val_accuracy: 0.5429\n",
      "Epoch 34/50\n",
      "3/3 [==============================] - 0s 144ms/step - loss: 0.6928 - accuracy: 0.6250 - val_loss: 0.6931 - val_accuracy: 0.5429\n",
      "Epoch 35/50\n",
      "3/3 [==============================] - 0s 139ms/step - loss: 0.6931 - accuracy: 0.5417 - val_loss: 0.6931 - val_accuracy: 0.5429\n",
      "Epoch 36/50\n",
      "3/3 [==============================] - 0s 127ms/step - loss: 0.6935 - accuracy: 0.2917 - val_loss: 0.6932 - val_accuracy: 0.4286\n",
      "Epoch 37/50\n",
      "3/3 [==============================] - 0s 150ms/step - loss: 0.6932 - accuracy: 0.4583 - val_loss: 0.6931 - val_accuracy: 0.5714\n",
      "Epoch 38/50\n",
      "3/3 [==============================] - 0s 166ms/step - loss: 0.6931 - accuracy: 0.5667 - val_loss: 0.6932 - val_accuracy: 0.4857\n",
      "Epoch 39/50\n",
      "3/3 [==============================] - 0s 168ms/step - loss: 0.6931 - accuracy: 0.6417 - val_loss: 0.6931 - val_accuracy: 0.5714\n",
      "Epoch 40/50\n",
      "3/3 [==============================] - 0s 146ms/step - loss: 0.6930 - accuracy: 0.6333 - val_loss: 0.6932 - val_accuracy: 0.4571\n",
      "Epoch 41/50\n",
      "3/3 [==============================] - 0s 145ms/step - loss: 0.6931 - accuracy: 0.5417 - val_loss: 0.6934 - val_accuracy: 0.4000\n",
      "Epoch 42/50\n",
      "3/3 [==============================] - 0s 134ms/step - loss: 0.6934 - accuracy: 0.4000 - val_loss: 0.6930 - val_accuracy: 0.5429\n",
      "Epoch 43/50\n",
      "3/3 [==============================] - 0s 177ms/step - loss: 0.6931 - accuracy: 0.5083 - val_loss: 0.6933 - val_accuracy: 0.4571\n",
      "Epoch 44/50\n",
      "3/3 [==============================] - 0s 141ms/step - loss: 0.6933 - accuracy: 0.4394 - val_loss: 0.6931 - val_accuracy: 0.5143\n",
      "Epoch 45/50\n",
      "3/3 [==============================] - 0s 133ms/step - loss: 0.6921 - accuracy: 0.9091 - val_loss: 0.6928 - val_accuracy: 0.6000\n",
      "Epoch 46/50\n",
      "3/3 [==============================] - 0s 138ms/step - loss: 0.6935 - accuracy: 0.4167 - val_loss: 0.6931 - val_accuracy: 0.5143\n",
      "Epoch 47/50\n",
      "3/3 [==============================] - 0s 146ms/step - loss: 0.6932 - accuracy: 0.4917 - val_loss: 0.6935 - val_accuracy: 0.4000\n",
      "Epoch 48/50\n",
      "3/3 [==============================] - 0s 133ms/step - loss: 0.6932 - accuracy: 0.4917 - val_loss: 0.6929 - val_accuracy: 0.5714\n",
      "Epoch 49/50\n",
      "3/3 [==============================] - 0s 120ms/step - loss: 0.6928 - accuracy: 0.5977 - val_loss: 0.6931 - val_accuracy: 0.5143\n",
      "Epoch 50/50\n",
      "3/3 [==============================] - 0s 148ms/step - loss: 0.6921 - accuracy: 0.7333 - val_loss: 0.6929 - val_accuracy: 0.5429\n"
     ]
    },
    {
     "data": {
      "text/plain": [
       "<tensorflow.python.keras.callbacks.History at 0x1db736ef3c8>"
      ]
     },
     "execution_count": 11,
     "metadata": {},
     "output_type": "execute_result"
    }
   ],
   "source": [
    "model.fit_generator(x_train,steps_per_epoch=3,epochs=50,validation_data=x_test,validation_steps=7)"
   ]
  },
  {
   "cell_type": "code",
   "execution_count": 12,
   "metadata": {
    "id": "uqVwDFKurnd5"
   },
   "outputs": [],
   "source": [
    "model.save(\"helmet.h5\")"
   ]
  },
  {
   "cell_type": "code",
   "execution_count": null,
   "metadata": {
    "id": "MH-dvhEqrnd6"
   },
   "outputs": [],
   "source": [
    "from tensorflow.keras.models import load_model\n",
    "from tensorflow.keras.preprocessing import image\n",
    "import cv2\n",
    "import numpy as np"
   ]
  },
  {
   "cell_type": "code",
   "execution_count": null,
   "metadata": {},
   "outputs": [],
   "source": [
    "#Index = [\"with_helmet\",\"without_helmet\"]"
   ]
  },
  {
   "cell_type": "code",
   "execution_count": null,
   "metadata": {},
   "outputs": [],
   "source": [
    "#model = load_model(\"E:\\Project\\helmet.h5\")"
   ]
  },
  {
   "cell_type": "code",
   "execution_count": null,
   "metadata": {},
   "outputs": [],
   "source": [
    "#img = image.load_img(\"E:\\Project\\with_helmet.jpg\",target_size=(64,64))"
   ]
  },
  {
   "cell_type": "code",
   "execution_count": null,
   "metadata": {},
   "outputs": [],
   "source": [
    "#x = image.img_to_array(img)"
   ]
  },
  {
   "cell_type": "code",
   "execution_count": null,
   "metadata": {},
   "outputs": [],
   "source": [
    "#x = np.expand_dims(x,axis=0)"
   ]
  },
  {
   "cell_type": "code",
   "execution_count": null,
   "metadata": {},
   "outputs": [],
   "source": [
    "#pred = model.predict(x)"
   ]
  },
  {
   "cell_type": "code",
   "execution_count": null,
   "metadata": {},
   "outputs": [],
   "source": [
    "#print(pred[0])"
   ]
  },
  {
   "cell_type": "code",
   "execution_count": null,
   "metadata": {},
   "outputs": [],
   "source": [
    "#   print(Index[pred[0]]) - not working"
   ]
  },
  {
   "cell_type": "markdown",
   "metadata": {},
   "source": [
    "print(pred)\n",
    "int_array = pred.astype(int)\n",
    "print(int_array[0])"
   ]
  },
  {
   "cell_type": "markdown",
   "metadata": {},
   "source": [
    "if int_array[0] == 0:\n",
    "  print(Index[0])\n",
    "else:\n",
    "  print(Index[1])"
   ]
  },
  {
   "cell_type": "code",
   "execution_count": 13,
   "metadata": {},
   "outputs": [],
   "source": [
    "import cv2\n",
    "import numpy as np\n",
    "\n",
    "from tensorflow.keras.models import load_model\n",
    "from tensorflow.keras.preprocessing import image\n",
    "import pyttsx3\n",
    "count = 0 \n",
    "engine = pyttsx3.init()\n",
    "def speak(audio):\n",
    "    engine.say(audio)\n",
    "    engine.runAndWait()\n",
    "model = load_model(\"E:\\Project\\helmet.h5\")\n",
    "video = cv2.VideoCapture(0)\n",
    "Index = [\"with_helmet\",\"without_helmet\"]\n",
    "while count<5:\n",
    "    success,frame = video.read()\n",
    "    cv2.imwrite('image.jpg',frame)\n",
    "    img = image.load_img('image.jpg',target_size=(64,64))\n",
    "    x = image.img_to_array(img)\n",
    "    x = np.expand_dims(x,axis = 0)\n",
    "    pred = model.predict(x)\n",
    "    pred_array = pred.astype(int)\n",
    "    p = pred_array[0]\n",
    "    count=count+1\n",
    "    #print(p)\n",
    "    #cv2.putText(frame,'Prediction is '+str(Index[p]),(100,100),cv2.FONT_HERSHEY_SIMPLEX,1,(0,0,0),4)\n",
    "    if pred_array[0] == 0:\n",
    "      cv2.putText(frame,'Prediction is '+'With Helmet',(25,25),cv2.FONT_HERSHEY_SIMPLEX,1,(0,0,0),4)\n",
    "      speak('With Helmet safe to go')\n",
    "    else:\n",
    "      cv2.putText(frame,'Prediction is '+'Without Helmet',(25,25),cv2.FONT_HERSHEY_SIMPLEX,1,(0,0,0),4)\n",
    "      speak('Without Helmet not to safe to go')\n",
    "    cv2.imshow('OutputWindow',frame)\n",
    "    \n",
    "    if cv2.waitKey(1) & 0xFF == ord('q'):\n",
    "        break\n",
    "video.release()\n",
    "cv2.destroyAllWindows()\n",
    "\n",
    "    \n"
   ]
  },
  {
   "cell_type": "code",
   "execution_count": null,
   "metadata": {},
   "outputs": [],
   "source": []
  },
  {
   "cell_type": "code",
   "execution_count": null,
   "metadata": {},
   "outputs": [],
   "source": []
  },
  {
   "cell_type": "code",
   "execution_count": null,
   "metadata": {},
   "outputs": [],
   "source": []
  }
 ],
 "metadata": {
  "colab": {
   "collapsed_sections": [],
   "name": "ConvolutionalNeuralNetworks.ipynb",
   "provenance": []
  },
  "kernelspec": {
   "display_name": "Python 3",
   "language": "python",
   "name": "python3"
  },
  "language_info": {
   "codemirror_mode": {
    "name": "ipython",
    "version": 3
   },
   "file_extension": ".py",
   "mimetype": "text/x-python",
   "name": "python",
   "nbconvert_exporter": "python",
   "pygments_lexer": "ipython3",
   "version": "3.7.3"
  }
 },
 "nbformat": 4,
 "nbformat_minor": 1
}
